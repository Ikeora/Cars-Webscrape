{
 "cells": [
  {
   "cell_type": "code",
   "execution_count": 2,
   "id": "8864419f-2980-418a-9d0c-fc14ea134663",
   "metadata": {},
   "outputs": [],
   "source": [
    "import requests\n",
    "from bs4 import BeautifulSoup\n",
    "import pandas as pd\n",
    "import numpy as np\n",
    "import random\n",
    "import cchardet\n",
    "import scrapy"
   ]
  },
  {
   "cell_type": "markdown",
   "id": "121aa0ef-74a6-44cc-b73d-73f114aea119",
   "metadata": {},
   "source": [
    "### Scrape data from `Cars.com`"
   ]
  },
  {
   "cell_type": "code",
   "execution_count": 17,
   "id": "4ebe7ce2-355e-48ea-9e68-37db8c119adb",
   "metadata": {},
   "outputs": [],
   "source": [
    "website='https://www.cars.com/shopping/results/?page=1&page_size=20&dealer_id=&keyword=&list_price_max=&list_price_min=&makes[]=mercedes_benz&maximum_distance=all&mileage_max=&sort=best_match_desc&stock_type=cpo&year_max=&year_min=&zip='"
   ]
  },
  {
   "cell_type": "code",
   "execution_count": 18,
   "id": "894e2e02-7af1-472c-91bb-049ba4f8bbb5",
   "metadata": {},
   "outputs": [],
   "source": [
    "request=requests.get(website)\n"
   ]
  },
  {
   "cell_type": "code",
   "execution_count": 19,
   "id": "f887ee22-d123-491e-abc2-0d6f41da6da8",
   "metadata": {},
   "outputs": [],
   "source": [
    "soup=BeautifulSoup(request.text,'lxml')"
   ]
  },
  {
   "cell_type": "code",
   "execution_count": 20,
   "id": "a86a6d9a-90e8-4f2c-a92b-c3b304c2601b",
   "metadata": {},
   "outputs": [],
   "source": [
    "## to select all the 20 entries in a page\n",
    "page_result=soup.find_all('div',{'class':'vehicle-card'})\n"
   ]
  },
  {
   "cell_type": "code",
   "execution_count": 21,
   "id": "f4dc36ca-f910-4121-87ff-614241d1e026",
   "metadata": {},
   "outputs": [],
   "source": [
    "# to get order details\n",
    "web2=page_result[1].find('a',{'class':'vehicle-card-visited-tracking-link'})['href']\n",
    "car_details='https://www.cars.com' + web2\n",
    "request2=requests.get(car_details)\n",
    "soup2=BeautifulSoup(request2.text,'html5lib')\n"
   ]
  },
  {
   "cell_type": "code",
   "execution_count": 223,
   "id": "f27fa9ad-b4ac-49e8-b161-6d25377438b4",
   "metadata": {},
   "outputs": [
    {
     "data": {
      "text/plain": [
       "'4.6'"
      ]
     },
     "execution_count": 223,
     "metadata": {},
     "output_type": "execute_result"
    }
   ],
   "source": [
    "# How to extract consumer reviews\n",
    "soup2.find('div',{'class':'sds-rating sds-rating--big'}).find('span',{'class':\"sds-rating__count\"}).text"
   ]
  },
  {
   "cell_type": "code",
   "execution_count": 59,
   "id": "cb4793dd-e090-4519-865f-09491ac7bd5e",
   "metadata": {},
   "outputs": [
    {
     "data": {
      "text/plain": [
       "'(72 reviews)'"
      ]
     },
     "execution_count": 59,
     "metadata": {},
     "output_type": "execute_result"
    }
   ],
   "source": [
    "# How to get reviews\n",
    "soup2.find('div',{'class':'sds-rating sds-rating--big'}).find('a',{'class':'sds-rating__link sds-button-link'}).text"
   ]
  },
  {
   "cell_type": "code",
   "execution_count": 41,
   "id": "b2d5430b-296c-40c2-a216-0bde99ebf5ef",
   "metadata": {},
   "outputs": [],
   "source": [
    "x=soup2.find('section',{'class':\"sds-page-section basics-section\"}).find('dl',{'class':'fancy-description-list'})\n"
   ]
  },
  {
   "cell_type": "code",
   "execution_count": 48,
   "id": "88c72685-ae3a-4e4e-816e-f7c0a8ef1647",
   "metadata": {},
   "outputs": [
    {
     "data": {
      "text/plain": [
       "<dd> Black </dd>"
      ]
     },
     "execution_count": 48,
     "metadata": {},
     "output_type": "execute_result"
    }
   ],
   "source": [
    "# to get car color\n",
    "x.find_all('dd')[1]"
   ]
  },
  {
   "cell_type": "markdown",
   "id": "2be773dc-4966-4eaa-9edf-0c56684bb439",
   "metadata": {},
   "source": [
    "### Main code"
   ]
  },
  {
   "cell_type": "code",
   "execution_count": 9,
   "id": "14665949-3590-4b75-a468-0ff9424a0a3e",
   "metadata": {
    "tags": []
   },
   "outputs": [],
   "source": [
    "## car name\n",
    "def extract_car_page(page,car):\n",
    "    website='https://www.cars.com/shopping/results/?page='+str(page)+'&page_size=30&dealer_id=&keyword='+\\\n",
    "                 '&list_price_max=&list_price_min=&makes[]='+car+'&maximum_distance=all&mileage_max=&'+\\\n",
    "                 'sort=best_match_desc&stock_type=cpo&year_max=&year_min=&zip='\n",
    "    request=requests.get(website)\n",
    "    soup=BeautifulSoup(request.text,'lxml')\n",
    "    page_result=soup.find_all('div',{'class':'vehicle-card'})\n",
    "    \n",
    "    return page_result\n",
    "\n",
    "def more_info(car_info):\n",
    "    web2=car_info.find('a',{'class':'vehicle-card-visited-tracking-link'})['href']\n",
    "    car_details='https://www.cars.com' + web2\n",
    "    request2=requests.get(car_details)\n",
    "    soup2=BeautifulSoup(request2.text,'lxml')\n",
    "    \n",
    "    return soup2\n",
    " \n",
    "\n",
    "def parser(cars=['mercedes_benz','toyota','ford'],page_num=5):\n",
    "    \n",
    "    entry=[] # a container for dicts storing extracted items\n",
    "       \n",
    "    for car in cars:\n",
    "        for page in random.choices(range(10),k=page_num):\n",
    "        \n",
    "            page_result=extract_car_page(page,car)\n",
    "    \n",
    "            for result in page_result:\n",
    "                try:\n",
    "                    car_name=result.find('h2',attrs={'class':'title'}).text\n",
    "                except:\n",
    "                    car_name=np.NaN\n",
    "    \n",
    "                try:\n",
    "                    mileage=result.find('div',attrs={'class':'mileage'}).text\n",
    "                except:\n",
    "                    mileage=np.NaN\n",
    "        \n",
    "                try:\n",
    "                    price=result.find('span',attrs={'class':'primary-price'}).text\n",
    "                except:\n",
    "                    price=np.NaN\n",
    "    \n",
    "                try:\n",
    "                    dealer_name=result.find('div',attrs={'class':'dealer-name'}).text.strip()\n",
    "                except:\n",
    "                    dealer_name=np.NaN\n",
    "    \n",
    "                try:\n",
    "                    ratings=result.find('span',attrs={'class':'sds-rating__count'}).text\n",
    "                except:\n",
    "                    ratings=np.NaN\n",
    "    \n",
    "                try:\n",
    "                    reviews=result.find('span',attrs={'class':'sds-rating__link'}).text\n",
    "                except:\n",
    "                    reviews=np.NaN\n",
    "            \n",
    "        \n",
    "                # getting more information on specfic car         \n",
    "                soup2=more_info(result)\n",
    "\n",
    "                try:\n",
    "                    consumer_review=soup2.find('div',{'class':'sds-rating sds-rating--big'}).\\\n",
    "                                       find('span',{'class':\"sds-rating__count\"}).text\n",
    "                    review_num=soup2.find('div',{'class':'sds-rating sds-rating--big'}).\\\n",
    "                                    find('a',{'class':'sds-rating__link sds-button-link'}).text\n",
    "                except:\n",
    "                    consumer_review=np.NaN\n",
    "                    review_num=np.NaN\n",
    "            \n",
    "    \n",
    "                basic_data=soup2.find('section',{'class':\"sds-page-section basics-section\"}).\\\n",
    "                              find('dl',{'class':'fancy-description-list'})\n",
    "                try:\n",
    "                    Ext_color=basic_data.find_all('dd')[0].text\n",
    "                    int_color=basic_data.find_all('dd')[1].text\n",
    "                    drive_train=basic_data.find_all('dd')[2].text\n",
    "                    fuel_type=basic_data.find_all('dd')[4].text\n",
    "                    transmission=basic_data.find_all('dd')[5].text\n",
    "                    engine=basic_data.find_all('dd')[6].text\n",
    "                except:\n",
    "                    Ext_color=np.NaN\n",
    "                    int_color=np.NaN\n",
    "                    drive_train=np.NaN\n",
    "                    fuel_type=np.NaN\n",
    "                    transmission=np.NaN\n",
    "                    engine=np.NaN\n",
    "                \n",
    "                item={'Car_name':car_name,'mileage':mileage,'dealer_name':dealer_name,\\\n",
    "                      'Service_ratings':ratings,'Service_reviews':reviews,'consumer_ratings':consumer_review,\\\n",
    "                      'consumer_reviews':review_num,'price':price,'Ext_color':Ext_color,\\\n",
    "                      'Int_color':int_color,'drive_train':drive_train,'fuel_type':fuel_type,\\\n",
    "                      'transmission':transmission,'engine':engine\n",
    "                     }\n",
    "            \n",
    "                entry.append(item)\n",
    "            \n",
    "    return entry\n",
    "    \n",
    "\n",
    "    \n",
    "            \n",
    "        \n",
    "                \n",
    "          \n",
    "            \n",
    "        \n",
    "    "
   ]
  },
  {
   "cell_type": "code",
   "execution_count": 10,
   "id": "0699e8be-c53e-4d35-bded-4ea8615818d6",
   "metadata": {},
   "outputs": [],
   "source": [
    "data=pd.DataFrame(parser(page_num=1))"
   ]
  },
  {
   "cell_type": "code",
   "execution_count": 12,
   "id": "574e96bb-e07d-4cb9-9215-4db50cf23544",
   "metadata": {
    "tags": []
   },
   "outputs": [],
   "source": [
    "#data cleaning\n",
    "data=data.dropna().reset_index(drop=True)\n",
    "data['mileage']=data['mileage'].str.strip(' mi.').str.replace(',','').astype(int)\n",
    "data['price']=data['price'].str.strip('$').str.replace(',','').astype(int)\n",
    "data['Service_reviews']=data['Service_reviews'].str.strip('(').str.strip(' reviews)').str.replace(',','').astype(int)\n",
    "data['consumer_reviews']=data['consumer_reviews'].str.strip('(').str.strip(' reviews)').str.replace(',','').astype(int)\n",
    "data['Service_ratings']=data['Service_ratings'].astype(float)"
   ]
  },
  {
   "cell_type": "code",
   "execution_count": 11,
   "id": "a7d716ad-3189-4c95-8a2b-e61ff4bef6fc",
   "metadata": {},
   "outputs": [],
   "source": [
    "#data.to_csv('first_car_data.csv')"
   ]
  },
  {
   "cell_type": "code",
   "execution_count": 13,
   "id": "a01d037b-2832-4ea8-8e25-8f34ad17c8b0",
   "metadata": {},
   "outputs": [
    {
     "data": {
      "text/plain": [
       "2.0L I4 16V GDI DOHC Turbo                  26\n",
       "2.5L I4 16V PDI DOHC                        12\n",
       "2.7L V6 24V PDI DOHC Twin Turbo              9\n",
       "1.8L I4 16V MPFI DOHC                        6\n",
       "3.0L V6 24V GDI DOHC Twin Turbo              4\n",
       "1.5L I4 16V GDI DOHC Turbo                   4\n",
       "3.5L V6 24V MPFI DOHC                        3\n",
       "3.5L V6 24V PDI DOHC                         3\n",
       "3.5L V6 24V PDI DOHC Twin Turbo              3\n",
       "3.5L V6 24V GDI DOHC Twin Turbo              2\n",
       "2.3L I4 16V GDI DOHC Turbo                   1\n",
       "5.0L V8 32V PDI DOHC                         1\n",
       "Regular Unleaded I-4 2.5 L/152               1\n",
       "2.7L V6 24V GDI DOHC Twin Turbo              1\n",
       "1.8L I4 16V MPFI DOHC Hybrid                 1\n",
       "Regular Unleaded V-6 3.5 L/211               1\n",
       "2.7L I4 16V MPFI DOHC                        1\n",
       "2.0L I4 16V MPFI DOHC                        1\n",
       "2.5L I4 16V PDI DOHC Hybrid                  1\n",
       "4.0L V6 24V MPFI DOHC                        1\n",
       "4.6L V8 32V MPFI DOHC                        1\n",
       "2.5L I4 16V MPFI DOHC                        1\n",
       "2.0L I4 16V GDI DOHC Turbo Flexible Fuel     1\n",
       "V6 Cylinder Engine                           1\n",
       "Name: engine, dtype: int64"
      ]
     },
     "execution_count": 13,
     "metadata": {},
     "output_type": "execute_result"
    }
   ],
   "source": [
    "data['engine'].value_counts()"
   ]
  },
  {
   "cell_type": "code",
   "execution_count": null,
   "id": "66664995-6f78-4fba-a3e9-62f3f0683e09",
   "metadata": {},
   "outputs": [],
   "source": []
  }
 ],
 "metadata": {
  "kernelspec": {
   "display_name": "Python 3 (ipykernel)",
   "language": "python",
   "name": "python3"
  },
  "language_info": {
   "codemirror_mode": {
    "name": "ipython",
    "version": 3
   },
   "file_extension": ".py",
   "mimetype": "text/x-python",
   "name": "python",
   "nbconvert_exporter": "python",
   "pygments_lexer": "ipython3",
   "version": "3.7.13"
  }
 },
 "nbformat": 4,
 "nbformat_minor": 5
}
