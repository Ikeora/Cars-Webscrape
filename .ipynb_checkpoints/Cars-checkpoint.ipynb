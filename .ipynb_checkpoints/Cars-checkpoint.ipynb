{
 "cells": [
  {
   "cell_type": "code",
   "execution_count": 16,
   "id": "8864419f-2980-418a-9d0c-fc14ea134663",
   "metadata": {},
   "outputs": [],
   "source": [
    "import requests\n",
    "from bs4 import BeautifulSoup\n",
    "import pandas as pd\n",
    "import numpy as np\n",
    "import random\n",
    "import cchardet\n",
    "import scrapy"
   ]
  },
  {
   "cell_type": "code",
   "execution_count": 7,
   "id": "5676be74-5769-4841-9a57-e599eaee3b4e",
   "metadata": {},
   "outputs": [],
   "source": [
    "url='https://naijauto.com/car-buying-and-selling/top-15-most-popular-cars-in-nigeria-868'\n",
    "page=requests.get(url).text"
   ]
  },
  {
   "cell_type": "code",
   "execution_count": null,
   "id": "890e6ac9-83d0-4394-a6df-ab6ce5130026",
   "metadata": {},
   "outputs": [],
   "source": []
  },
  {
   "cell_type": "code",
   "execution_count": 12,
   "id": "8e3cc5fd-a752-4ec4-8218-9005a15284be",
   "metadata": {},
   "outputs": [],
   "source": [
    "parse=BeautifulSoup(page,'lxml')"
   ]
  },
  {
   "cell_type": "code",
   "execution_count": 13,
   "id": "ecf17792-39db-4070-b382-5b73c9761ced",
   "metadata": {},
   "outputs": [],
   "source": [
    "data=pd.DataFrame(columns=['Number','Car model'])\n",
    "d=[]\n",
    "for th in parse.find_all('tbody'):\n",
    "    for trow in th.find_all('tr')[1:]:  \n",
    "        col=trow.find_all('td')\n",
    "        data=data.append({'Number':col[0].text,'Car model':col[1].text},ignore_index=True)\n",
    "            #d.append(tcol.text)"
   ]
  },
  {
   "cell_type": "code",
   "execution_count": 14,
   "id": "3d645fec-37fd-4104-b931-d81f877fad85",
   "metadata": {},
   "outputs": [
    {
     "data": {
      "text/html": [
       "<div>\n",
       "<style scoped>\n",
       "    .dataframe tbody tr th:only-of-type {\n",
       "        vertical-align: middle;\n",
       "    }\n",
       "\n",
       "    .dataframe tbody tr th {\n",
       "        vertical-align: top;\n",
       "    }\n",
       "\n",
       "    .dataframe thead th {\n",
       "        text-align: right;\n",
       "    }\n",
       "</style>\n",
       "<table border=\"1\" class=\"dataframe\">\n",
       "  <thead>\n",
       "    <tr style=\"text-align: right;\">\n",
       "      <th></th>\n",
       "      <th>Number</th>\n",
       "      <th>Car model</th>\n",
       "    </tr>\n",
       "  </thead>\n",
       "  <tbody>\n",
       "    <tr>\n",
       "      <th>0</th>\n",
       "      <td>1</td>\n",
       "      <td>Toyota Camry</td>\n",
       "    </tr>\n",
       "    <tr>\n",
       "      <th>1</th>\n",
       "      <td>2</td>\n",
       "      <td>Toyota Corolla</td>\n",
       "    </tr>\n",
       "    <tr>\n",
       "      <th>2</th>\n",
       "      <td>3</td>\n",
       "      <td>Toyota Highlander</td>\n",
       "    </tr>\n",
       "    <tr>\n",
       "      <th>3</th>\n",
       "      <td>4</td>\n",
       "      <td>Toyota Sienna</td>\n",
       "    </tr>\n",
       "    <tr>\n",
       "      <th>4</th>\n",
       "      <td>5</td>\n",
       "      <td>Honda Accord</td>\n",
       "    </tr>\n",
       "    <tr>\n",
       "      <th>5</th>\n",
       "      <td>6</td>\n",
       "      <td>Toyota Avalon</td>\n",
       "    </tr>\n",
       "    <tr>\n",
       "      <th>6</th>\n",
       "      <td>7</td>\n",
       "      <td>Honda Pilot</td>\n",
       "    </tr>\n",
       "    <tr>\n",
       "      <th>7</th>\n",
       "      <td>8</td>\n",
       "      <td>Ford Edge</td>\n",
       "    </tr>\n",
       "    <tr>\n",
       "      <th>8</th>\n",
       "      <td>9</td>\n",
       "      <td>Land Rover Range Rover Sports</td>\n",
       "    </tr>\n",
       "    <tr>\n",
       "      <th>9</th>\n",
       "      <td>10</td>\n",
       "      <td>Toyota Prado</td>\n",
       "    </tr>\n",
       "    <tr>\n",
       "      <th>10</th>\n",
       "      <td>11</td>\n",
       "      <td>Ford Explorer</td>\n",
       "    </tr>\n",
       "    <tr>\n",
       "      <th>11</th>\n",
       "      <td>12</td>\n",
       "      <td>Lexus RX350</td>\n",
       "    </tr>\n",
       "    <tr>\n",
       "      <th>12</th>\n",
       "      <td>13</td>\n",
       "      <td>Volkswagen Golf</td>\n",
       "    </tr>\n",
       "    <tr>\n",
       "      <th>13</th>\n",
       "      <td>14</td>\n",
       "      <td>Kia Rio</td>\n",
       "    </tr>\n",
       "    <tr>\n",
       "      <th>14</th>\n",
       "      <td>15</td>\n",
       "      <td>Mercedes-Benz G-Class</td>\n",
       "    </tr>\n",
       "  </tbody>\n",
       "</table>\n",
       "</div>"
      ],
      "text/plain": [
       "   Number                      Car model\n",
       "0       1                   Toyota Camry\n",
       "1       2                 Toyota Corolla\n",
       "2       3              Toyota Highlander\n",
       "3       4                  Toyota Sienna\n",
       "4       5                   Honda Accord\n",
       "5       6                  Toyota Avalon\n",
       "6       7                    Honda Pilot\n",
       "7       8                      Ford Edge\n",
       "8       9  Land Rover Range Rover Sports\n",
       "9      10                   Toyota Prado\n",
       "10     11                  Ford Explorer\n",
       "11     12                    Lexus RX350\n",
       "12     13                Volkswagen Golf\n",
       "13     14                        Kia Rio\n",
       "14     15          Mercedes-Benz G-Class"
      ]
     },
     "execution_count": 14,
     "metadata": {},
     "output_type": "execute_result"
    }
   ],
   "source": [
    "data"
   ]
  },
  {
   "cell_type": "markdown",
   "id": "121aa0ef-74a6-44cc-b73d-73f114aea119",
   "metadata": {},
   "source": [
    "### Scrape data from `Cars.com`"
   ]
  },
  {
   "cell_type": "code",
   "execution_count": 17,
   "id": "4ebe7ce2-355e-48ea-9e68-37db8c119adb",
   "metadata": {},
   "outputs": [],
   "source": [
    "website='https://www.cars.com/shopping/results/?page=1&page_size=20&dealer_id=&keyword=&list_price_max=&list_price_min=&makes[]=mercedes_benz&maximum_distance=all&mileage_max=&sort=best_match_desc&stock_type=cpo&year_max=&year_min=&zip='"
   ]
  },
  {
   "cell_type": "code",
   "execution_count": 18,
   "id": "894e2e02-7af1-472c-91bb-049ba4f8bbb5",
   "metadata": {},
   "outputs": [],
   "source": [
    "request=requests.get(website)\n"
   ]
  },
  {
   "cell_type": "code",
   "execution_count": 19,
   "id": "f887ee22-d123-491e-abc2-0d6f41da6da8",
   "metadata": {},
   "outputs": [],
   "source": [
    "soup=BeautifulSoup(request.text,'lxml')"
   ]
  },
  {
   "cell_type": "code",
   "execution_count": 20,
   "id": "a86a6d9a-90e8-4f2c-a92b-c3b304c2601b",
   "metadata": {},
   "outputs": [],
   "source": [
    "## to select all the 20 entries in a page\n",
    "page_result=soup.find_all('div',{'class':'vehicle-card'})\n"
   ]
  },
  {
   "cell_type": "code",
   "execution_count": 21,
   "id": "f4dc36ca-f910-4121-87ff-614241d1e026",
   "metadata": {},
   "outputs": [],
   "source": [
    "# to get order details\n",
    "web2=page_result[1].find('a',{'class':'vehicle-card-visited-tracking-link'})['href']\n",
    "car_details='https://www.cars.com' + web2\n",
    "request2=requests.get(car_details)\n",
    "soup2=BeautifulSoup(request2.text,'html5lib')\n"
   ]
  },
  {
   "cell_type": "code",
   "execution_count": 223,
   "id": "f27fa9ad-b4ac-49e8-b161-6d25377438b4",
   "metadata": {},
   "outputs": [
    {
     "data": {
      "text/plain": [
       "'4.6'"
      ]
     },
     "execution_count": 223,
     "metadata": {},
     "output_type": "execute_result"
    }
   ],
   "source": [
    "# How to extract consumer reviews\n",
    "soup2.find('div',{'class':'sds-rating sds-rating--big'}).find('span',{'class':\"sds-rating__count\"}).text"
   ]
  },
  {
   "cell_type": "code",
   "execution_count": 59,
   "id": "cb4793dd-e090-4519-865f-09491ac7bd5e",
   "metadata": {},
   "outputs": [
    {
     "data": {
      "text/plain": [
       "'(72 reviews)'"
      ]
     },
     "execution_count": 59,
     "metadata": {},
     "output_type": "execute_result"
    }
   ],
   "source": [
    "# How to get reviews\n",
    "soup2.find('div',{'class':'sds-rating sds-rating--big'}).find('a',{'class':'sds-rating__link sds-button-link'}).text"
   ]
  },
  {
   "cell_type": "code",
   "execution_count": 41,
   "id": "b2d5430b-296c-40c2-a216-0bde99ebf5ef",
   "metadata": {},
   "outputs": [],
   "source": [
    "x=soup2.find('section',{'class':\"sds-page-section basics-section\"}).find('dl',{'class':'fancy-description-list'})\n"
   ]
  },
  {
   "cell_type": "code",
   "execution_count": 48,
   "id": "88c72685-ae3a-4e4e-816e-f7c0a8ef1647",
   "metadata": {},
   "outputs": [
    {
     "data": {
      "text/plain": [
       "<dd> Black </dd>"
      ]
     },
     "execution_count": 48,
     "metadata": {},
     "output_type": "execute_result"
    }
   ],
   "source": [
    "# to get car color\n",
    "x.find_all('dd')[1]"
   ]
  },
  {
   "cell_type": "markdown",
   "id": "2be773dc-4966-4eaa-9edf-0c56684bb439",
   "metadata": {},
   "source": [
    "### Main code"
   ]
  },
  {
   "cell_type": "code",
   "execution_count": 30,
   "id": "14665949-3590-4b75-a468-0ff9424a0a3e",
   "metadata": {
    "tags": []
   },
   "outputs": [],
   "source": [
    "## car name\n",
    "def extract_car_page(page,car):\n",
    "    website='https://www.cars.com/shopping/results/?page='+str(page)+'&page_size=30&dealer_id=&keyword='+\\\n",
    "                 '&list_price_max=&list_price_min=&makes[]='+car+'&maximum_distance=all&mileage_max=&'+\\\n",
    "                 'sort=best_match_desc&stock_type=cpo&year_max=&year_min=&zip='\n",
    "    request=requests.get(website)\n",
    "    soup=BeautifulSoup(request.text,'lxml')\n",
    "    page_result=soup.find_all('div',{'class':'vehicle-card'})\n",
    "    \n",
    "    return page_result\n",
    "\n",
    "def more_info(car_info):\n",
    "    web2=car_info.find('a',{'class':'vehicle-card-visited-tracking-link'})['href']\n",
    "    car_details='https://www.cars.com' + web2\n",
    "    request2=requests.get(car_details)\n",
    "    soup2=BeautifulSoup(request2.text,'lxml')\n",
    "    \n",
    "    return soup2\n",
    " \n",
    "\n",
    "def parser(cars=['mercedes_benz','toyota','ford'],k=5):\n",
    "    \n",
    "    entry=[] # a container for dicts storing extracted items\n",
    "       \n",
    "    for car in cars:\n",
    "        #number of pages to parse ,k\n",
    "        for page in random.choices(range(10),k):\n",
    "        \n",
    "            page_result=extract_car_page(page,car)\n",
    "    \n",
    "            for result in page_result:\n",
    "                try:\n",
    "                    car_name=result.find('h2',attrs={'class':'title'}).text\n",
    "                except:\n",
    "                    car_name=np.NaN\n",
    "    \n",
    "                try:\n",
    "                    mileage=result.find('div',attrs={'class':'mileage'}).text\n",
    "                except:\n",
    "                    mileage=np.NaN\n",
    "        \n",
    "                try:\n",
    "                    price=result.find('span',attrs={'class':'primary-price'}).text\n",
    "                except:\n",
    "                    price=np.NaN\n",
    "    \n",
    "                try:\n",
    "                    dealer_name=result.find('div',attrs={'class':'dealer-name'}).text.strip()\n",
    "                except:\n",
    "                    dealer_name=np.NaN\n",
    "    \n",
    "                try:\n",
    "                    ratings=result.find('span',attrs={'class':'sds-rating__count'}).text\n",
    "                except:\n",
    "                    ratings=np.NaN\n",
    "    \n",
    "                try:\n",
    "                    reviews=result.find('span',attrs={'class':'sds-rating__link'}).text\n",
    "                except:\n",
    "                    reviews=np.NaN\n",
    "            \n",
    "        \n",
    "                # getting more information on specfic car         \n",
    "                soup2=more_info(result)\n",
    "\n",
    "                try:\n",
    "                    consumer_review=soup2.find('div',{'class':'sds-rating sds-rating--big'}).\\\n",
    "                                       find('span',{'class':\"sds-rating__count\"}).text\n",
    "                    review_num=soup2.find('div',{'class':'sds-rating sds-rating--big'}).\\\n",
    "                                    find('a',{'class':'sds-rating__link sds-button-link'}).text\n",
    "                except:\n",
    "                    consumer_review=np.NaN\n",
    "                    review_num=np.NaN\n",
    "            \n",
    "    \n",
    "                basic_data=soup2.find('section',{'class':\"sds-page-section basics-section\"}).\\\n",
    "                              find('dl',{'class':'fancy-description-list'})\n",
    "                try:\n",
    "                    Ext_color=basic_data.find_all('dd')[0].text\n",
    "                    int_color=basic_data.find_all('dd')[1].text\n",
    "                    drive_train=basic_data.find_all('dd')[2].text\n",
    "                    fuel_type=basic_data.find_all('dd')[4].text\n",
    "                    transmission=basic_data.find_all('dd')[5].text\n",
    "                    engine=basic_data.find_all('dd')[6].text\n",
    "                except:\n",
    "                    Ext_color=np.NaN\n",
    "                    int_color=np.NaN\n",
    "                    drive_train=np.NaN\n",
    "                    fuel_type=np.NaN\n",
    "                    transmission=np.NaN\n",
    "                    engine=np.NaN\n",
    "                \n",
    "                item={'Car_name':car_name,'mileage':mileage,'dealer_name':dealer_name,\\\n",
    "                      'Service_ratings':ratings,'Service_reviews':reviews,'consumer_ratings':consumer_review,\\\n",
    "                      'consumer_reviews':review_num,'price':price,'Ext_color':Ext_color,\\\n",
    "                      'Int_color':int_color,'drive_train':drive_train,'fuel_type':fuel_type,\\\n",
    "                      'transmission':transmission,'engine':engine\n",
    "                     }\n",
    "            \n",
    "                entry.append(item)\n",
    "            \n",
    "    return entry\n",
    "    \n",
    "\n",
    "    \n",
    "            \n",
    "        \n",
    "                \n",
    "          \n",
    "            \n",
    "        \n",
    "    "
   ]
  },
  {
   "cell_type": "code",
   "execution_count": 31,
   "id": "0699e8be-c53e-4d35-bded-4ea8615818d6",
   "metadata": {},
   "outputs": [],
   "source": [
    "#data=pd.DataFrame(parser())"
   ]
  },
  {
   "cell_type": "code",
   "execution_count": 32,
   "id": "574e96bb-e07d-4cb9-9215-4db50cf23544",
   "metadata": {
    "tags": []
   },
   "outputs": [],
   "source": [
    "#data cleaning\n",
    "#data=data.dropna().reset_index(drop=True)\n",
    "data['mileage']=data['mileage'].str.strip(' mi.').str.replace(',','').astype(int)\n",
    "data['price']=data['price'].str.strip('$').str.replace(',','').astype(int)\n",
    "data['Service_reviews']=data['Service_reviews'].str.strip('(').str.strip(' reviews)').str.replace(',','').astype(int)\n",
    "data['consumer_reviews']=data['consumer_reviews'].str.strip('(').str.strip(' reviews)').str.replace(',','').astype(int)\n",
    "data['Service_ratings']=data['Service_ratings'].astype(float)"
   ]
  },
  {
   "cell_type": "code",
   "execution_count": 36,
   "id": "a7d716ad-3189-4c95-8a2b-e61ff4bef6fc",
   "metadata": {},
   "outputs": [],
   "source": [
    "#data.to_csv('Initial_car_data.csv')"
   ]
  },
  {
   "cell_type": "code",
   "execution_count": 34,
   "id": "a01d037b-2832-4ea8-8e25-8f34ad17c8b0",
   "metadata": {},
   "outputs": [
    {
     "data": {
      "text/plain": [
       "2.0L I4 16V GDI DOHC Turbo                  146\n",
       "2.5L I4 16V PDI DOHC                         64\n",
       "1.8L I4 16V MPFI DOHC                        29\n",
       "3.5L V6 24V PDI DOHC Twin Turbo              18\n",
       "3.5L V6 24V PDI DOHC                         17\n",
       "3.0L V6 24V GDI DOHC Twin Turbo              15\n",
       "2.5L I4 16V MPFI DOHC                        14\n",
       "2.7L V6 24V PDI DOHC Twin Turbo              14\n",
       "3.5L V6 24V GDI DOHC Twin Turbo              13\n",
       "3.5L V6 24V MPFI DOHC                         9\n",
       "5.0L V8 32V PDI DOHC                          8\n",
       "1.5L I4 16V GDI DOHC Turbo                    7\n",
       "5.7L V8 32V MPFI DOHC                         6\n",
       "2.0L I4 16V PDI DOHC                          6\n",
       "Regular Unleaded I-4 2.5 L/152                6\n",
       "4.0L V8 32V GDI DOHC Twin Turbo               5\n",
       "2.3L I4 16V GDI DOHC Turbo                    5\n",
       "4.0L V6 24V MPFI DOHC                         4\n",
       "3.5L V6 24V GDI SOHC                          4\n",
       "2.0L I4 16V GDI DOHC Turbo Flexible Fuel      4\n",
       "1.0L I3 12V GDI DOHC Turbo                    3\n",
       "2.0L I4 16V GDI DOHC Turbo Hybrid             3\n",
       "Electric                                      3\n",
       "3.0L I6 24V GDI DOHC Turbo                    3\n",
       "3.0L V6 24V DDI DOHC Turbo Diesel             2\n",
       "2.0L I4 16V GDI DOHC                          2\n",
       "6.7L V8 32V DDI OHV Turbo Diesel              2\n",
       "2.0L H4 16V GDI DOHC                          2\n",
       "1.5L I3 12V GDI DOHC Turbo                    2\n",
       "3.5L V6 24V GDI DOHC                          2\n",
       "6.2L V8 16V MPFI SOHC Flexible Fuel           2\n",
       "Regular Unleaded V-6 3.5 L/212                1\n",
       "3.6L V6 24V MPFI DOHC                         1\n",
       "2.0L 4-Cylinder DOHC 16V Turbocharged         1\n",
       "2.4L I4 16V MPFI SOHC                         1\n",
       "2.4L I4 16V GDI DOHC                          1\n",
       "3.2L V6 24V MPFI DOHC                         1\n",
       "1.8L I4 16V MPFI DOHC Hybrid                  1\n",
       "2.7L V6 24V GDI DOHC Twin Turbo               1\n",
       "5.5L V8 32V GDI DOHC Twin Turbo               1\n",
       "2.7L I4 16V MPFI DOHC                         1\n",
       "2.0L I4 16V MPFI DOHC Hybrid                  1\n",
       "Intercooled Turbo Diesel V-8 6.7 L/406        1\n",
       "2.5L I4 16V MPFI DOHC Hybrid                  1\n",
       "2.5L H4 16V GDI DOHC                          1\n",
       "Name: engine, dtype: int64"
      ]
     },
     "execution_count": 34,
     "metadata": {},
     "output_type": "execute_result"
    }
   ],
   "source": [
    "data['engine'].value_counts()"
   ]
  },
  {
   "cell_type": "code",
   "execution_count": 50,
   "id": "da4f3b60-295f-42f6-a744-4a7ed58d642b",
   "metadata": {},
   "outputs": [
    {
     "data": {
      "text/plain": [
       "array([[10, 11, 12],\n",
       "       [13, 14, 15],\n",
       "       [16, 17, 18],\n",
       "       [19, 20, 21]])"
      ]
     },
     "execution_count": 50,
     "metadata": {},
     "output_type": "execute_result"
    }
   ],
   "source": [
    "e\n"
   ]
  },
  {
   "cell_type": "code",
   "execution_count": 57,
   "id": "174ba34a-9c62-4cf5-bc95-1afa6c55395d",
   "metadata": {},
   "outputs": [],
   "source": [
    "assert len(e) == len([[10,11,12],[13,14,16],[13,14,16],[13,14,16]])"
   ]
  },
  {
   "cell_type": "code",
   "execution_count": null,
   "id": "66664995-6f78-4fba-a3e9-62f3f0683e09",
   "metadata": {},
   "outputs": [],
   "source": []
  }
 ],
 "metadata": {
  "kernelspec": {
   "display_name": "Python 3 (ipykernel)",
   "language": "python",
   "name": "python3"
  },
  "language_info": {
   "codemirror_mode": {
    "name": "ipython",
    "version": 3
   },
   "file_extension": ".py",
   "mimetype": "text/x-python",
   "name": "python",
   "nbconvert_exporter": "python",
   "pygments_lexer": "ipython3",
   "version": "3.7.13"
  }
 },
 "nbformat": 4,
 "nbformat_minor": 5
}
