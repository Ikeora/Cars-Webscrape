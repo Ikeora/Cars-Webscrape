{
 "cells": [
  {
   "cell_type": "code",
   "execution_count": 37,
   "id": "ddfeaaf4-0a49-404e-b1d0-1f9763a8a8a8",
   "metadata": {},
   "outputs": [],
   "source": [
    "import pandas as pd\n",
    "import numpy as np\n",
    "import random\n",
    "import matplotlib.pyplot as plt\n",
    "import seaborn as sb"
   ]
  },
  {
   "cell_type": "code",
   "execution_count": 137,
   "id": "034fded7-8f3e-4dba-8fea-454319fba904",
   "metadata": {},
   "outputs": [],
   "source": [
    "# import combined data\n",
    "car_data=pd.read_csv('combined_car_data.csv')"
   ]
  },
  {
   "cell_type": "code",
   "execution_count": 138,
   "id": "3c686c77-445c-4488-8e22-7e9dad2158fc",
   "metadata": {},
   "outputs": [],
   "source": [
    "#drop unnamed column\n",
    "car_data.drop('Unnamed: 0',axis=1,inplace=True)"
   ]
  },
  {
   "cell_type": "code",
   "execution_count": 139,
   "id": "e400cc95-f350-4cfe-b645-545901b1088d",
   "metadata": {},
   "outputs": [],
   "source": [
    "car_data=car_data.dropna().reset_index(drop=True)\n",
    "car_data['mileage']=car_data['mileage'].str.strip(' mi.').str.replace(',','').astype(int)\n",
    "car_data['price']=car_data['price'].str.strip('$').str.replace(',','').astype(int)\n",
    "car_data['Service_reviews']=car_data['Service_reviews'].str.strip('(').str.strip(' reviews)').str.replace(',','').astype(int)\n",
    "car_data['consumer_reviews']=car_data['consumer_reviews'].str.strip('(').str.strip(' reviews)').str.replace(',','').astype(int)\n",
    "car_data['Service_ratings']=car_data['Service_ratings'].astype(float)\n",
    "car_data['Ext_color']=car_data['Ext_color'].str.strip()\n",
    "car_data['Int_color']=car_data['Int_color'].str.strip()\n",
    "car_data['drive_train']=car_data['drive_train'].str.strip()\n",
    "car_data['fuel_type']=car_data['fuel_type'].str.strip()\n",
    "car_data['transmission']=car_data['transmission'].str.strip()\n",
    "car_data['engine']=car_data['engine'].str.strip()"
   ]
  },
  {
   "cell_type": "code",
   "execution_count": 140,
   "id": "90c0551a-e3a1-43e1-b809-43c3cdf4c1db",
   "metadata": {},
   "outputs": [
    {
     "data": {
      "text/plain": [
       "Car_name            0\n",
       "mileage             0\n",
       "dealer_name         0\n",
       "Service_ratings     0\n",
       "Service_reviews     0\n",
       "consumer_ratings    0\n",
       "consumer_reviews    0\n",
       "price               0\n",
       "Ext_color           0\n",
       "Int_color           0\n",
       "drive_train         0\n",
       "fuel_type           0\n",
       "transmission        0\n",
       "engine              0\n",
       "dtype: int64"
      ]
     },
     "execution_count": 140,
     "metadata": {},
     "output_type": "execute_result"
    }
   ],
   "source": [
    "# Check if there are null values\n",
    "car_data.isna().sum()"
   ]
  },
  {
   "cell_type": "code",
   "execution_count": 142,
   "id": "7c245db6-1959-488d-a724-52c2d9707742",
   "metadata": {},
   "outputs": [
    {
     "data": {
      "text/plain": [
       "All-wheel Drive      414\n",
       "Front-wheel Drive    244\n",
       "Rear-wheel Drive      96\n",
       "Four-wheel Drive      73\n",
       "–                      3\n",
       "AWD                    1\n",
       "FWD                    1\n",
       "RWD                    1\n",
       "Name: drive_train, dtype: int64"
      ]
     },
     "execution_count": 142,
     "metadata": {},
     "output_type": "execute_result"
    }
   ],
   "source": [
    "# Taking a look at some feature\n",
    "car_data['drive_train'].value_counts()"
   ]
  },
  {
   "cell_type": "code",
   "execution_count": 143,
   "id": "96052170-e562-451e-8c64-1e0f31c88ed3",
   "metadata": {},
   "outputs": [],
   "source": [
    "car_data['drive_train'].replace(['All-wheel Drive','Four-wheel Drive'], 'AWD',inplace=True)\n",
    "car_data['drive_train'].replace(['Front-wheel Drive'], 'FWD',inplace=True)\n",
    "car_data['drive_train'].replace(['Rear-wheel Drive'], 'RWD',inplace=True)\n",
    "car_data=car_data[car_data['drive_train'].isin([\"AWD\",\"FWD\",\"RWD\"])]"
   ]
  },
  {
   "cell_type": "code",
   "execution_count": 145,
   "id": "1c81d25b-efc6-4589-80d9-0d2361b057ec",
   "metadata": {},
   "outputs": [
    {
     "data": {
      "text/plain": [
       "AWD    488\n",
       "FWD    245\n",
       "RWD     97\n",
       "Name: drive_train, dtype: int64"
      ]
     },
     "execution_count": 145,
     "metadata": {},
     "output_type": "execute_result"
    }
   ],
   "source": [
    "car_data['drive_train'].value_counts()"
   ]
  },
  {
   "cell_type": "code",
   "execution_count": 149,
   "id": "bfbfaec4-fe9b-478d-9fcc-f0c1ffafdb2e",
   "metadata": {},
   "outputs": [
    {
     "data": {
      "text/html": [
       "<div>\n",
       "<style scoped>\n",
       "    .dataframe tbody tr th:only-of-type {\n",
       "        vertical-align: middle;\n",
       "    }\n",
       "\n",
       "    .dataframe tbody tr th {\n",
       "        vertical-align: top;\n",
       "    }\n",
       "\n",
       "    .dataframe thead th {\n",
       "        text-align: right;\n",
       "    }\n",
       "</style>\n",
       "<table border=\"1\" class=\"dataframe\">\n",
       "  <thead>\n",
       "    <tr style=\"text-align: right;\">\n",
       "      <th></th>\n",
       "      <th>Car_name</th>\n",
       "      <th>mileage</th>\n",
       "      <th>dealer_name</th>\n",
       "      <th>Service_ratings</th>\n",
       "      <th>Service_reviews</th>\n",
       "      <th>consumer_ratings</th>\n",
       "      <th>consumer_reviews</th>\n",
       "      <th>price</th>\n",
       "      <th>Ext_color</th>\n",
       "      <th>Int_color</th>\n",
       "      <th>drive_train</th>\n",
       "      <th>fuel_type</th>\n",
       "      <th>transmission</th>\n",
       "      <th>engine</th>\n",
       "    </tr>\n",
       "  </thead>\n",
       "  <tbody>\n",
       "    <tr>\n",
       "      <th>0</th>\n",
       "      <td>2019 Mercedes-Benz GLS 450 Base 4MATIC</td>\n",
       "      <td>29800</td>\n",
       "      <td>Mercedes-Benz of Fort Washington</td>\n",
       "      <td>4.6</td>\n",
       "      <td>2361</td>\n",
       "      <td>5.0</td>\n",
       "      <td>10</td>\n",
       "      <td>59463</td>\n",
       "      <td>Polar White</td>\n",
       "      <td>Espresso Brown</td>\n",
       "      <td>AWD</td>\n",
       "      <td>Gasoline</td>\n",
       "      <td>9-Speed Automatic</td>\n",
       "      <td>3.0L V6 24V GDI DOHC Twin Turbo</td>\n",
       "    </tr>\n",
       "    <tr>\n",
       "      <th>1</th>\n",
       "      <td>2018 Mercedes-Benz AMG GLE 43 Coupe 4MATIC</td>\n",
       "      <td>36219</td>\n",
       "      <td>RBM of Atlanta</td>\n",
       "      <td>4.9</td>\n",
       "      <td>1013</td>\n",
       "      <td>4.9</td>\n",
       "      <td>14</td>\n",
       "      <td>66812</td>\n",
       "      <td>Gray Metallic</td>\n",
       "      <td>Saddle Brown / Black</td>\n",
       "      <td>AWD</td>\n",
       "      <td>Gasoline</td>\n",
       "      <td>9-Speed Automatic</td>\n",
       "      <td>3.0L V6 24V GDI DOHC Twin Turbo</td>\n",
       "    </tr>\n",
       "  </tbody>\n",
       "</table>\n",
       "</div>"
      ],
      "text/plain": [
       "                                     Car_name  mileage  \\\n",
       "0      2019 Mercedes-Benz GLS 450 Base 4MATIC    29800   \n",
       "1  2018 Mercedes-Benz AMG GLE 43 Coupe 4MATIC    36219   \n",
       "\n",
       "                        dealer_name  Service_ratings  Service_reviews  \\\n",
       "0  Mercedes-Benz of Fort Washington              4.6             2361   \n",
       "1                    RBM of Atlanta              4.9             1013   \n",
       "\n",
       "   consumer_ratings  consumer_reviews  price      Ext_color  \\\n",
       "0               5.0                10  59463    Polar White   \n",
       "1               4.9                14  66812  Gray Metallic   \n",
       "\n",
       "              Int_color drive_train fuel_type       transmission  \\\n",
       "0        Espresso Brown         AWD  Gasoline  9-Speed Automatic   \n",
       "1  Saddle Brown / Black         AWD  Gasoline  9-Speed Automatic   \n",
       "\n",
       "                            engine  \n",
       "0  3.0L V6 24V GDI DOHC Twin Turbo  \n",
       "1  3.0L V6 24V GDI DOHC Twin Turbo  "
      ]
     },
     "execution_count": 149,
     "metadata": {},
     "output_type": "execute_result"
    }
   ],
   "source": [
    "car_data.head(2)"
   ]
  },
  {
   "cell_type": "code",
   "execution_count": null,
   "id": "a8226c5c-b31c-4649-b0bd-e8f94b95de07",
   "metadata": {},
   "outputs": [],
   "source": []
  },
  {
   "cell_type": "code",
   "execution_count": null,
   "id": "ad95e00f-4524-49f4-b711-7fb4b1efc8ab",
   "metadata": {},
   "outputs": [],
   "source": []
  }
 ],
 "metadata": {
  "kernelspec": {
   "display_name": "Python 3 (ipykernel)",
   "language": "python",
   "name": "python3"
  },
  "language_info": {
   "codemirror_mode": {
    "name": "ipython",
    "version": 3
   },
   "file_extension": ".py",
   "mimetype": "text/x-python",
   "name": "python",
   "nbconvert_exporter": "python",
   "pygments_lexer": "ipython3",
   "version": "3.7.13"
  }
 },
 "nbformat": 4,
 "nbformat_minor": 5
}
